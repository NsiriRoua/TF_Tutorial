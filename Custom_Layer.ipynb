{
  "nbformat": 4,
  "nbformat_minor": 0,
  "metadata": {
    "colab": {
      "name": "Custom Layer",
      "provenance": [],
      "authorship_tag": "ABX9TyOPqpTplpnRQQrwL1ZcKf1+",
      "include_colab_link": true
    },
    "kernelspec": {
      "name": "python3",
      "display_name": "Python 3"
    },
    "language_info": {
      "name": "python"
    }
  },
  "cells": [
    {
      "cell_type": "markdown",
      "metadata": {
        "id": "view-in-github",
        "colab_type": "text"
      },
      "source": [
        "<a href=\"https://colab.research.google.com/github/NsiriRoua/tensor_flow/blob/main/Custom_Layer.ipynb\" target=\"_parent\"><img src=\"https://colab.research.google.com/assets/colab-badge.svg\" alt=\"Open In Colab\"/></a>"
      ]
    },
    {
      "cell_type": "markdown",
      "metadata": {
        "id": "25Y47SfVxQ2S"
      },
      "source": [
        "We can define custom layers with the Lambda layer ."
      ]
    },
    {
      "cell_type": "markdown",
      "metadata": {
        "id": "DwNYL-35xbRY"
      },
      "source": [
        "# **Imports**"
      ]
    },
    {
      "cell_type": "code",
      "metadata": {
        "id": "ij4MZF4Nwh2_"
      },
      "source": [
        "try:\n",
        "  # %tensorflow_version only exists in Colab.\n",
        "  %tensorflow_version 2.x\n",
        "except Exception:\n",
        "  pass\n",
        "\n",
        "import tensorflow as tf\n",
        "from tensorflow.keras import backend as K"
      ],
      "execution_count": 9,
      "outputs": []
    },
    {
      "cell_type": "markdown",
      "metadata": {
        "id": "K2g1B1TvxsOp"
      },
      "source": [
        "We will use the mnist dataset"
      ]
    },
    {
      "cell_type": "code",
      "metadata": {
        "colab": {
          "base_uri": "https://localhost:8080/"
        },
        "id": "vTkWFPoZxwlc",
        "outputId": "cab94bca-b4f7-410c-e643-29aebbd9e502"
      },
      "source": [
        "mnist=tf.keras.datasets.mnist\n",
        "(x_train,y_train),(x_test,y_test)=mnist.load_data()"
      ],
      "execution_count": 2,
      "outputs": [
        {
          "output_type": "stream",
          "text": [
            "Downloading data from https://storage.googleapis.com/tensorflow/tf-keras-datasets/mnist.npz\n",
            "11493376/11490434 [==============================] - 0s 0us/step\n"
          ],
          "name": "stdout"
        }
      ]
    },
    {
      "cell_type": "markdown",
      "metadata": {
        "id": "fu78iq9NyJs0"
      },
      "source": [
        "# **Let's build the model**"
      ]
    },
    {
      "cell_type": "code",
      "metadata": {
        "id": "dCCDEeFuyOHC"
      },
      "source": [
        "model=tf.keras.models.Sequential([\n",
        "                                  tf.keras.layers.Flatten(input_shape=(28,28)),\n",
        "                                  tf.keras.layers.Dense(128),\n",
        "                                  tf.keras.layers.Lambda(lambda x:tf.abs((x))),\n",
        "                                  tf.keras.layers.Dense(10,activation='softmax')\n",
        "])"
      ],
      "execution_count": 4,
      "outputs": []
    },
    {
      "cell_type": "markdown",
      "metadata": {
        "id": "SVcI9DL9y6LL"
      },
      "source": [
        "# **Let's compile our model**"
      ]
    },
    {
      "cell_type": "code",
      "metadata": {
        "id": "i2Zk5JUry9sO"
      },
      "source": [
        "model.compile(optimizer=tf.keras.optimizers.Adam(),loss=tf.keras.losses.sparse_categorical_crossentropy,metrics=['accuracy'])"
      ],
      "execution_count": 6,
      "outputs": []
    },
    {
      "cell_type": "markdown",
      "metadata": {
        "id": "vRuCSZbgzPcD"
      },
      "source": [
        "# **Let's fit our model**"
      ]
    },
    {
      "cell_type": "code",
      "metadata": {
        "colab": {
          "base_uri": "https://localhost:8080/"
        },
        "id": "d5zCBLlMzWD5",
        "outputId": "3deaf71c-f48d-4a48-df4d-234ffd740494"
      },
      "source": [
        "model.fit(x_train,y_train,epochs=5)\n",
        "model.evaluate(x_test,y_test)"
      ],
      "execution_count": 7,
      "outputs": [
        {
          "output_type": "stream",
          "text": [
            "Epoch 1/5\n",
            "1875/1875 [==============================] - 4s 2ms/step - loss: 16.7148 - accuracy: 0.8472\n",
            "Epoch 2/5\n",
            "1875/1875 [==============================] - 3s 2ms/step - loss: 5.0141 - accuracy: 0.9481\n",
            "Epoch 3/5\n",
            "1875/1875 [==============================] - 3s 2ms/step - loss: 3.6002 - accuracy: 0.9611\n",
            "Epoch 4/5\n",
            "1875/1875 [==============================] - 3s 2ms/step - loss: 3.3686 - accuracy: 0.9648\n",
            "Epoch 5/5\n",
            "1875/1875 [==============================] - 3s 2ms/step - loss: 2.7231 - accuracy: 0.9720\n",
            "313/313 [==============================] - 0s 1ms/step - loss: 6.9360 - accuracy: 0.9489\n"
          ],
          "name": "stdout"
        },
        {
          "output_type": "execute_result",
          "data": {
            "text/plain": [
              "[6.935971736907959, 0.9488999843597412]"
            ]
          },
          "metadata": {
            "tags": []
          },
          "execution_count": 7
        }
      ]
    },
    {
      "cell_type": "markdown",
      "metadata": {
        "id": "15Eaax-W0HgB"
      },
      "source": [
        "custom ReLU function is used as a custom layer in the model"
      ]
    },
    {
      "cell_type": "code",
      "metadata": {
        "id": "yovTVkqT0Qf0"
      },
      "source": [
        "def my_relu(x):\n",
        "  return K.maximum(0.0,x)\n",
        "  "
      ],
      "execution_count": 10,
      "outputs": []
    },
    {
      "cell_type": "markdown",
      "metadata": {
        "id": "GcCTt3LV0quI"
      },
      "source": [
        "Let's define again our model but this time we will use a relu function as a costom layer "
      ]
    },
    {
      "cell_type": "code",
      "metadata": {
        "id": "TZxuPjiZ3gg3"
      },
      "source": [
        "model=tf.keras.models.Sequential([\n",
        "                                  tf.keras.layers.Flatten(input_shape=(28,28)),\n",
        "                                  tf.keras.layers.Dense(128),\n",
        "                                  tf.keras.layers.Lambda(my_relu),\n",
        "                                  tf.keras.layers.Dense(10,activation='softmax')\n",
        "])"
      ],
      "execution_count": 12,
      "outputs": []
    },
    {
      "cell_type": "code",
      "metadata": {
        "colab": {
          "base_uri": "https://localhost:8080/"
        },
        "id": "vgAZm6HPD00d",
        "outputId": "cb601052-4199-4adc-fa59-5d9fa3d6f76d"
      },
      "source": [
        "model.compile(optimizer='adam',\n",
        "              loss='sparse_categorical_crossentropy',\n",
        "              metrics=['accuracy'])\n",
        "\n",
        "model.fit(x_train, y_train, epochs=5)\n",
        "model.evaluate(x_test, y_test)"
      ],
      "execution_count": 14,
      "outputs": [
        {
          "output_type": "stream",
          "text": [
            "Epoch 1/5\n",
            "1875/1875 [==============================] - 3s 2ms/step - loss: 8.1914 - accuracy: 0.8263\n",
            "Epoch 2/5\n",
            "1875/1875 [==============================] - 3s 2ms/step - loss: 0.3977 - accuracy: 0.9059\n",
            "Epoch 3/5\n",
            "1875/1875 [==============================] - 3s 2ms/step - loss: 0.2830 - accuracy: 0.9265\n",
            "Epoch 4/5\n",
            "1875/1875 [==============================] - 3s 2ms/step - loss: 0.2416 - accuracy: 0.9386\n",
            "Epoch 5/5\n",
            "1875/1875 [==============================] - 3s 2ms/step - loss: 0.2254 - accuracy: 0.9442\n",
            "313/313 [==============================] - 0s 1ms/step - loss: 0.2456 - accuracy: 0.9435\n"
          ],
          "name": "stdout"
        },
        {
          "output_type": "execute_result",
          "data": {
            "text/plain": [
              "[0.2456396222114563, 0.9434999823570251]"
            ]
          },
          "metadata": {
            "tags": []
          },
          "execution_count": 14
        }
      ]
    },
    {
      "cell_type": "markdown",
      "metadata": {
        "id": "f7PrVVFQEAHL"
      },
      "source": [
        "==> As you see , the accuracy has been dropped"
      ]
    }
  ]
}